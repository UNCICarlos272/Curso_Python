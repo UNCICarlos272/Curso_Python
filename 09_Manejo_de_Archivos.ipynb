{
 "cells": [
  {
   "cell_type": "markdown",
   "metadata": {"id": "a1b2c3d4"},
   "source": [
    "# 9. Manejo de Archivos\n",
    "\n",
    "**¡Vamos a interactuar con el sistema de archivos!** Hasta ahora, todos los datos de nuestros programas desaparecían al terminar la ejecución. En este cuaderno, aprenderás a leer y escribir en archivos de texto. Esto te permitirá guardar datos de forma permanente, leer configuraciones, crear logs y mucho más."
   ]
  },
  {
   "cell_type": "markdown",
   "metadata": {"id": "e5f6g7h8"},
   "source": [
    "## La Forma Segura de Abrir Archivos: `with open()`\n",
    "La mejor práctica para trabajar con archivos es usar la declaración `with open()`. Se encarga de abrir el archivo y, lo más importante, de **cerrarlo automáticamente** cuando terminas, incluso si ocurren errores."
   ]
  },
  {
   "cell_type": "markdown",
   "metadata": {"id": "i9j0k1l2"},
   "source": [
    "## Escribir en un Archivo\n",
    "Para escribir, usamos el modo `'w'` (write). **¡Cuidado!** Si el archivo ya existe, el modo `'w'` borrará todo su contenido anterior."
   ]
  },
  {
   "cell_type": "code",
   "execution_count": null,
   "metadata": {"id": "m3n4o5p6"},
   "outputs": [],
    "source": [
    "with open(\"testfile.txt\", \"w\", encoding=\"utf-8\") as f:\n",
    "    f.write(\"linea uno\\n\")\n",
    "    f.write(\"linea dos\\n\")\n",
    "print(\"Archivo creado\")"
    ]
  },
  {
   "cell_type": "markdown",
   "metadata": {"id": "q7r8s9t0"},
   "source": [
    "## Añadir Contenido a un Archivo Existente\n",
    "Si no quieres borrar el contenido, usa el modo `'a'` (append). Este modo añade el nuevo contenido al final del archivo."
   ]
  },
  {
   "cell_type": "code",
   "execution_count": null,
   "metadata": {"id": "u1v2w3x4"},
   "outputs": [],
   "source": [
    "with open(\"testfile.txt\", \"a\", encoding=\"utf-8\") as f:\n",
    "    f.write(\"linea tres\\n\")\n",
    "print(\"Archivo modificado\")"
   ]
  },
  {
   "cell_type": "markdown",
   "metadata": {"id": "y5z6a7b8"},
   "source": [
    "## Leer un Archivo\n",
    "Para leer, usamos el modo `'r'` (read)."
   ]
  },
  {
   "cell_type": "markdown",
   "metadata": {"id": "c9d0e1f2"},
   "source": [
    "### Leer todo el contenido con `.read()`\n",
    "Devuelve todo el contenido del archivo como un único string."
   ]
  },
  {
   "cell_type": "code",
   "execution_count": null,
   "metadata": {"id": "g3h4i5j6"},
   "outputs": [],
   "source": [
    "try:\n",
    "    with open(\"testfile.txt\", \"r\", encoding=\"utf-8\") as f:\n",
    "        contenido = f.read()\n",
    "        print(\"--- Contenido ---\")\n",
    "        print(contenido)\n",
    "except FileNotFoundError:\n",
    "    print(\"Error: archivo no encontrado\")"
   ]
  },
  {
   "cell_type": "markdown",
   "metadata": {"id": "k7l8m9n0"},
   "source": [
    "### Leer el archivo línea por línea\n",
    "Es la forma más eficiente, especialmente con archivos grandes. Podemos iterar directamente sobre el objeto del archivo."
   ]
  },
  {
   "cell_type": "code",
   "execution_count": null,
   "metadata": {"id": "o1p2q3r4"},
   "outputs": [],
   "source": [
    "try:\n",
    "    with open(\"testfile.txt\", \"r\", encoding=\"utf-8\") as f:\n",
    "        for linea in f:\n",
    "            print(linea.strip())\n",
    "except FileNotFoundError:\n",
    "    print(\"Error: archivo no encontrado\")"
   ]
  },
  {
   "cell_type": "markdown",
   "metadata": {"id": "s5t6u7v8"},
   "source": [
    "## ¡Logrado!\n",
    "\n",
    "Ahora tus programas pueden recordar información entre ejecuciones. El manejo de archivos es clave para cualquier aplicación que necesite persistencia de datos.\n",
    "\n",
    "**Próximo paso:** Aprender a organizar tu código en diferentes archivos usando módulos y paquetes."
   ]
  }
 ],
 "metadata": {
  "colab": {
   "provenance": []
  },
  "kernelspec": {
   "display_name": "Python 3",
   "language": "python",
   "name": "python3"
  },
  "language_info": {
   "codemirror_mode": {
    "name": "ipython",
    "version": 3
   },
   "file_extension": ".py",
   "mimetype": "text/x-python",
   "name": "python",
   "nbconvert_exporter": "python",
   "pygments_lexer": "ipython3",
   "version": "3.12.4"
  }
 },
 "nbformat": 4,
 "nbformat_minor": 5
}
