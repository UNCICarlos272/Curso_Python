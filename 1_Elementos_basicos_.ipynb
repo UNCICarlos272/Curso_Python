{
  "cells": [
    {
      "cell_type": "markdown",
      "metadata": {
        "id": "view-in-github",
        "colab_type": "text"
      },
      "source": [
        "<a href=\"https://colab.research.google.com/github/UNCICarlos272/Curso_Python/blob/main/1_Elementos_basicos_.ipynb\" target=\"_parent\"><img src=\"https://colab.research.google.com/assets/colab-badge.svg\" alt=\"Open In Colab\"/></a>"
      ]
    },
    {
      "cell_type": "code",
      "execution_count": null,
      "id": "345dcba1",
      "metadata": {
        "colab": {
          "base_uri": "https://localhost:8080/"
        },
        "id": "345dcba1",
        "outputId": "7914d8fe-1503-4546-92e2-6209947d5710"
      },
      "outputs": [
        {
          "output_type": "stream",
          "name": "stdout",
          "text": [
            "Hola Mundo\n"
          ]
        }
      ],
      "source": [
        "# Hola mundo\n",
        "print(\"Hola Mundo\")"
      ]
    },
    {
      "cell_type": "code",
      "source": [
        "print(\"Buenas tardes\")"
      ],
      "metadata": {
        "colab": {
          "base_uri": "https://localhost:8080/"
        },
        "id": "vN-nHZ0mPPhd",
        "outputId": "432dd6c6-805d-48d7-e448-9fef389de419"
      },
      "id": "vN-nHZ0mPPhd",
      "execution_count": null,
      "outputs": [
        {
          "output_type": "stream",
          "name": "stdout",
          "text": [
            "Buenas tardes\n"
          ]
        }
      ]
    },
    {
      "cell_type": "markdown",
      "id": "64e1f15e",
      "metadata": {
        "id": "64e1f15e"
      },
      "source": [
        "# Tipos de datos"
      ]
    },
    {
      "cell_type": "markdown",
      "id": "f404d19e",
      "metadata": {
        "id": "f404d19e"
      },
      "source": [
        "## Cadenas de texto o str (string)\n",
        "* Entre comillas"
      ]
    },
    {
      "cell_type": "code",
      "source": [
        "\"2\""
      ],
      "metadata": {
        "colab": {
          "base_uri": "https://localhost:8080/",
          "height": 35
        },
        "id": "tJJegpgxPvU7",
        "outputId": "03355202-b3d6-456b-b167-9b34a0faf7b3"
      },
      "id": "tJJegpgxPvU7",
      "execution_count": null,
      "outputs": [
        {
          "output_type": "execute_result",
          "data": {
            "text/plain": [
              "'2'"
            ],
            "application/vnd.google.colaboratory.intrinsic+json": {
              "type": "string"
            }
          },
          "metadata": {},
          "execution_count": 1
        }
      ]
    },
    {
      "cell_type": "code",
      "source": [
        "# Este es un comentario\n",
        "variable1 = \"Hola\"#\"Hola\"\n",
        "variable1[3]\n",
        "len(variable1)"
      ],
      "metadata": {
        "colab": {
          "base_uri": "https://localhost:8080/"
        },
        "id": "gr-g31lnQeum",
        "outputId": "b226f238-168b-4889-b453-2133d6393280"
      },
      "id": "gr-g31lnQeum",
      "execution_count": null,
      "outputs": [
        {
          "output_type": "execute_result",
          "data": {
            "text/plain": [
              "4"
            ]
          },
          "metadata": {},
          "execution_count": 20
        }
      ]
    },
    {
      "cell_type": "code",
      "execution_count": null,
      "id": "f6216f3b",
      "metadata": {
        "colab": {
          "base_uri": "https://localhost:8080/"
        },
        "id": "f6216f3b",
        "outputId": "98bec87c-6b84-492b-a510-e998b43da05e"
      },
      "outputs": [
        {
          "output_type": "stream",
          "name": "stdout",
          "text": [
            "Carlos\n",
            "Posicion 0 - C\n",
            "Posicion 1 - a\n",
            "Posicion 5 - s\n",
            "tamaño de la variable 6\n"
          ]
        }
      ],
      "source": [
        "nombre = \"Carlos\"\n",
        "print(nombre)\n",
        "\n",
        "# * Se puede obtener la posicion de caracter en especifico\n",
        "# variable[posicion de caracter] -- notar que el conteo inicia desde el numero 0\n",
        "\n",
        "print(\"Posicion 0 -\", nombre[0])\n",
        "print(\"Posicion 1 -\", nombre[1])\n",
        "print(\"Posicion 5 -\", nombre[5])\n",
        "\n",
        "# Tamaño del caracter\n",
        "print(\"tamaño de la variable\", len(nombre))"
      ]
    },
    {
      "cell_type": "markdown",
      "id": "8d44c871",
      "metadata": {
        "id": "8d44c871"
      },
      "source": [
        "| Variable |   C   |   a   |   r   |   l   |   o   |   s   |\n",
        "|----------|-------|-------|-------|-------|-------|-------|\n",
        "| Posicion |   0   |   1   |   2   |   3   |   4   |   5   |\n",
        "| Posicion inversa |  -6 |  -5  |  -4  |  -3  |  -2  |  -1  |\n",
        "| Tamaño   |   1   |   2   |   3   |   4   |   5   |   6   |\n"
      ]
    },
    {
      "cell_type": "code",
      "execution_count": null,
      "id": "e43ab980",
      "metadata": {
        "colab": {
          "base_uri": "https://localhost:8080/"
        },
        "id": "e43ab980",
        "outputId": "132098ad-723a-4c3e-de0d-ced4ab1a64c0"
      },
      "outputs": [
        {
          "output_type": "stream",
          "name": "stdout",
          "text": [
            "Tamaño de la cadena =  6\n",
            "Tamaño de la cadena -1 = 5\n",
            "Ultimo caracter s\n"
          ]
        }
      ],
      "source": [
        "#Suponemos que el nombre cambia y queremos obtener el ultimo caracter de la cadena\n",
        "print(\"Tamaño de la cadena = \" ,len(nombre))\n",
        "print(\"Tamaño de la cadena -1 =\" ,len(nombre)-1)\n",
        "print(\"Ultimo caracter\", nombre[len(nombre)-1])"
      ]
    },
    {
      "cell_type": "code",
      "execution_count": null,
      "id": "e715d26d",
      "metadata": {
        "colab": {
          "base_uri": "https://localhost:8080/"
        },
        "id": "e715d26d",
        "outputId": "1bf47dd2-cbbd-4f71-f908-337491a2b61e"
      },
      "outputs": [
        {
          "output_type": "stream",
          "name": "stdout",
          "text": [
            "Ultimo caracter =  s\n",
            "Primer caracter =  C\n",
            "Primer caracter =  C\n"
          ]
        }
      ],
      "source": [
        "# Posicion Inversa\n",
        "print(\"Ultimo caracter = \",nombre[-1])\n",
        "print(\"Primer caracter = \", nombre[0])\n",
        "print(\"Primer caracter = \", nombre[len(nombre) * -1])"
      ]
    },
    {
      "cell_type": "code",
      "execution_count": null,
      "id": "a4f58ae7",
      "metadata": {
        "colab": {
          "base_uri": "https://localhost:8080/"
        },
        "id": "a4f58ae7",
        "outputId": "ae0d4e32-7f92-43c8-d9e1-ecea928c1a57"
      },
      "outputs": [
        {
          "output_type": "stream",
          "name": "stdout",
          "text": [
            "Todo el nombre = Carlos\n",
            "Los primeros 3 cracteres Car\n"
          ]
        }
      ],
      "source": [
        "# Rangos\n",
        "print(\"Todo el nombre =\",nombre[0:6])\n",
        "print(\"Los primeros 3 cracteres\",nombre[0:3])"
      ]
    },
    {
      "cell_type": "code",
      "execution_count": null,
      "id": "0cfc42d2",
      "metadata": {
        "colab": {
          "base_uri": "https://localhost:8080/"
        },
        "id": "0cfc42d2",
        "outputId": "a37a6a8f-3932-4e66-ec9e-0f3cef82113a"
      },
      "outputs": [
        {
          "output_type": "stream",
          "name": "stdout",
          "text": [
            "Son minusculas? =  True\n",
            "Son mayusculas? =  False\n"
          ]
        }
      ],
      "source": [
        "nombre = \"carlos\" # \"carlos\" # \"Carlos\"\n",
        "# Nos regresa si el texto esta en mayusculas o minusculas de tipo booleano\n",
        "print(\"Son minusculas? = \",nombre.islower())\n",
        "print(\"Son mayusculas? = \", nombre.isupper())"
      ]
    },
    {
      "cell_type": "code",
      "execution_count": null,
      "id": "45a07a0f",
      "metadata": {
        "colab": {
          "base_uri": "https://localhost:8080/"
        },
        "id": "45a07a0f",
        "outputId": "96433d55-5515-40e7-df3a-f072a6691ac4"
      },
      "outputs": [
        {
          "output_type": "stream",
          "name": "stdout",
          "text": [
            "Minuscula carlos\n",
            "Mayuscula CARLOS\n"
          ]
        },
        {
          "output_type": "execute_result",
          "data": {
            "text/plain": [
              "True"
            ]
          },
          "metadata": {},
          "execution_count": 32
        }
      ],
      "source": [
        "# pasar a mayusculas o minusculas la cadena de texto\n",
        "print(\"Minuscula\", nombre.lower())\n",
        "print(\"Mayuscula\", nombre.upper())\n",
        "\n",
        "variable_1 = \"Carlos Eduardo Peña Navarrete\"\n",
        "variable_2 = \"carlos eduardo Peña Navarrete\"\n",
        "variable_1.lower() == variable_2.lower()"
      ]
    },
    {
      "cell_type": "code",
      "execution_count": null,
      "id": "7b4241ec",
      "metadata": {
        "colab": {
          "base_uri": "https://localhost:8080/"
        },
        "id": "7b4241ec",
        "outputId": "9226b788-bcc6-4855-fdc4-30ecec3e8e9a"
      },
      "outputs": [
        {
          "output_type": "stream",
          "name": "stdout",
          "text": [
            "CARLOS\n"
          ]
        }
      ],
      "source": [
        "#Ejemplo para pasar a mayucula una variable\n",
        "nombre = \"Carlos\"\n",
        "nombre = nombre.upper()\n",
        "print(nombre)"
      ]
    },
    {
      "cell_type": "markdown",
      "id": "26b8d8d7",
      "metadata": {
        "id": "26b8d8d7"
      },
      "source": [
        "## Enteros o Integer (int)\n",
        "* Son positivos o negativos (no decimales)"
      ]
    },
    {
      "cell_type": "code",
      "source": [
        "nombre"
      ],
      "metadata": {
        "colab": {
          "base_uri": "https://localhost:8080/",
          "height": 35
        },
        "id": "NCAd1zdOVatp",
        "outputId": "b8e0cb16-7e2a-414d-d172-c8459f9b2789"
      },
      "id": "NCAd1zdOVatp",
      "execution_count": null,
      "outputs": [
        {
          "output_type": "execute_result",
          "data": {
            "text/plain": [
              "'CARLOS'"
            ],
            "application/vnd.google.colaboratory.intrinsic+json": {
              "type": "string"
            }
          },
          "metadata": {},
          "execution_count": 35
        }
      ]
    },
    {
      "cell_type": "code",
      "execution_count": null,
      "id": "c2833152",
      "metadata": {
        "colab": {
          "base_uri": "https://localhost:8080/"
        },
        "id": "c2833152",
        "outputId": "375db37b-7efd-4f4b-d65d-5c466992ecf3"
      },
      "outputs": [
        {
          "output_type": "stream",
          "name": "stdout",
          "text": [
            "tipo str = <class 'str'>\n",
            "tipo int <class 'int'>\n",
            "10\n"
          ]
        }
      ],
      "source": [
        "numero = 10\n",
        "print(\"tipo str =\", type(nombre))\n",
        "print(\"tipo int\", type(numero))\n",
        "print(numero)"
      ]
    },
    {
      "cell_type": "code",
      "source": [
        "numero = 1000.9999\n",
        "numero"
      ],
      "metadata": {
        "colab": {
          "base_uri": "https://localhost:8080/"
        },
        "id": "A7YqxNI7Vq51",
        "outputId": "0499772b-918c-444b-c661-58a95b69da25"
      },
      "id": "A7YqxNI7Vq51",
      "execution_count": null,
      "outputs": [
        {
          "output_type": "execute_result",
          "data": {
            "text/plain": [
              "1000.9999"
            ]
          },
          "metadata": {},
          "execution_count": 37
        }
      ]
    },
    {
      "cell_type": "code",
      "execution_count": null,
      "id": "c4058858",
      "metadata": {
        "colab": {
          "base_uri": "https://localhost:8080/"
        },
        "id": "c4058858",
        "outputId": "0dd68c0c-8dad-4c59-e378-00a0d18f42ce"
      },
      "outputs": [
        {
          "output_type": "stream",
          "name": "stdout",
          "text": [
            "tipo int <class 'int'> 1000\n"
          ]
        }
      ],
      "source": [
        "# pasar a entero\n",
        "# notar que int solo toma la parte entera no hace ningun redondeo\n",
        "#numero = \"1000\"\n",
        "numero = 1000.9999\n",
        "numero = int(numero)\n",
        "\n",
        "print(\"tipo int\", type(numero),numero)"
      ]
    },
    {
      "cell_type": "markdown",
      "id": "f912888c",
      "metadata": {
        "id": "f912888c"
      },
      "source": [
        "## Flotantes o Float\n",
        "* Numeros reales"
      ]
    },
    {
      "cell_type": "code",
      "execution_count": null,
      "id": "3ef03ca9",
      "metadata": {
        "colab": {
          "base_uri": "https://localhost:8080/"
        },
        "id": "3ef03ca9",
        "outputId": "e47c7409-ef83-4164-f533-89f84ab16b80"
      },
      "outputs": [
        {
          "output_type": "stream",
          "name": "stdout",
          "text": [
            "tipo int <class 'float'> 4.98\n"
          ]
        }
      ],
      "source": [
        "numero = 4.9823\n",
        "numero = round(numero,2)\n",
        "print(\"tipo int\", type(numero), numero)"
      ]
    },
    {
      "cell_type": "markdown",
      "id": "c8c69310",
      "metadata": {
        "id": "c8c69310"
      },
      "source": [
        "## Booleanos o Boolean\n",
        "* verdadero o falso"
      ]
    },
    {
      "cell_type": "code",
      "execution_count": null,
      "id": "00d9392d",
      "metadata": {
        "colab": {
          "base_uri": "https://localhost:8080/"
        },
        "id": "00d9392d",
        "outputId": "55204c81-92a1-40f5-c0d8-479f65fc0b94"
      },
      "outputs": [
        {
          "output_type": "stream",
          "name": "stdout",
          "text": [
            "tipo int <class 'bool'> True\n",
            "tipo int <class 'bool'> False\n"
          ]
        }
      ],
      "source": [
        "# Para definir la variable se escribe de la siguiente forma * True o * False\n",
        "#verdadero = true\n",
        "verdadero = True\n",
        "falso = False\n",
        "print(\"tipo int\", type(verdadero), verdadero)\n",
        "print(\"tipo int\", type(falso), falso)"
      ]
    },
    {
      "cell_type": "code",
      "execution_count": null,
      "id": "5414e4a4",
      "metadata": {
        "id": "5414e4a4"
      },
      "outputs": [],
      "source": [
        "# Errores\n",
        "#* NameError -no se le ha dado un valor a una variable"
      ]
    },
    {
      "cell_type": "markdown",
      "id": "239b1859",
      "metadata": {
        "id": "239b1859"
      },
      "source": [
        "# Operadores Aritmeticos\n",
        "\n",
        "* Suma             +\n",
        "* Resta            -\n",
        "* Multiplicacion   *\n",
        "* Division         /\n",
        "* Division Entera  //\n",
        "* Modulo           %"
      ]
    },
    {
      "cell_type": "code",
      "execution_count": null,
      "id": "1e4d7390",
      "metadata": {
        "id": "1e4d7390"
      },
      "outputs": [],
      "source": [
        "num1 = 10\n",
        "num2 = 5\n",
        "cat1 = \"10\"\n",
        "cat2 = \"5\""
      ]
    },
    {
      "cell_type": "code",
      "execution_count": null,
      "id": "f535fed2",
      "metadata": {
        "colab": {
          "base_uri": "https://localhost:8080/"
        },
        "id": "f535fed2",
        "outputId": "f007752b-9dce-4423-8f01-ecf6b2c9faa2"
      },
      "outputs": [
        {
          "output_type": "stream",
          "name": "stdout",
          "text": [
            "Suma =  15\n",
            "Suma_cat =  105\n"
          ]
        }
      ],
      "source": [
        "#Suma numeros\n",
        "suma = num1 + num2\n",
        "print(\"Suma = \", suma)\n",
        "\n",
        "#Suma cadenas de texto\n",
        "suma_cat = cat1 + cat2\n",
        "print(\"Suma_cat = \", suma_cat) # concatena las cadenas de texto - se suele usar con bucles"
      ]
    },
    {
      "cell_type": "code",
      "execution_count": null,
      "id": "c9d208b1",
      "metadata": {
        "colab": {
          "base_uri": "https://localhost:8080/"
        },
        "id": "c9d208b1",
        "outputId": "399beb37-9a34-4ea5-a0b8-d3416a348a0e"
      },
      "outputs": [
        {
          "output_type": "stream",
          "name": "stdout",
          "text": [
            "Resta =  5\n"
          ]
        }
      ],
      "source": [
        "# Resta numeros\n",
        "resta = num1 - num2\n",
        "print(\"Resta = \", resta)"
      ]
    },
    {
      "cell_type": "code",
      "execution_count": null,
      "id": "679b1d37",
      "metadata": {
        "colab": {
          "base_uri": "https://localhost:8080/"
        },
        "id": "679b1d37",
        "outputId": "74d7aaf2-bf79-4ccc-dc65-8ede1454b98c"
      },
      "outputs": [
        {
          "output_type": "stream",
          "name": "stdout",
          "text": [
            "Multiplicacion =  50\n",
            "Multiplicacion_cat =  1010101010\n"
          ]
        }
      ],
      "source": [
        "#Multiplicacion numeros\n",
        "mult = num1 * num2\n",
        "print(\"Multiplicacion = \", mult)\n",
        "\n",
        "#Multiplicacion cadenas de texto (solo se puede cadena * numero)\n",
        "mult_cat = cat1 * 5\n",
        "print(\"Multiplicacion_cat = \", mult_cat)"
      ]
    },
    {
      "cell_type": "code",
      "execution_count": null,
      "id": "b3002e81",
      "metadata": {
        "colab": {
          "base_uri": "https://localhost:8080/"
        },
        "id": "b3002e81",
        "outputId": "2b9fef08-cee0-4062-bc9a-01bfa007d25b"
      },
      "outputs": [
        {
          "output_type": "stream",
          "name": "stdout",
          "text": [
            "Exponente^2 =  100\n"
          ]
        }
      ],
      "source": [
        "# Exponente numeros\n",
        "exp = num1 ** 2\n",
        "print(\"Exponente^2 = \", exp)"
      ]
    },
    {
      "cell_type": "code",
      "execution_count": null,
      "id": "863af0f8",
      "metadata": {
        "colab": {
          "base_uri": "https://localhost:8080/"
        },
        "id": "863af0f8",
        "outputId": "94338126-c86f-4355-c0f4-d39dee4c7a24"
      },
      "outputs": [
        {
          "output_type": "stream",
          "name": "stdout",
          "text": [
            "division =  2.2\n"
          ]
        }
      ],
      "source": [
        "# Division numeros\n",
        "# Notar que siempre nos regresa un numero flotante\n",
        "num1 = 11\n",
        "num2 = 5\n",
        "div = num1 / num2\n",
        "print(\"division = \", div)"
      ]
    },
    {
      "cell_type": "code",
      "execution_count": null,
      "id": "d0f041f8",
      "metadata": {
        "colab": {
          "base_uri": "https://localhost:8080/"
        },
        "id": "d0f041f8",
        "outputId": "23ea4b86-9de2-4fe0-e15b-debbe1c1dab3"
      },
      "outputs": [
        {
          "output_type": "stream",
          "name": "stdout",
          "text": [
            "division_ent =  2\n"
          ]
        }
      ],
      "source": [
        "# Division Entera numeros\n",
        "# Nos da la division - Entera (2.6 = 2)\n",
        "div_ent = num1 // num2\n",
        "print(\"division_ent = \", div_ent)"
      ]
    },
    {
      "cell_type": "code",
      "execution_count": null,
      "id": "ba494c98",
      "metadata": {
        "colab": {
          "base_uri": "https://localhost:8080/"
        },
        "id": "ba494c98",
        "outputId": "4cb3d146-95d9-457b-d866-e11bda9f21e7"
      },
      "outputs": [
        {
          "output_type": "stream",
          "name": "stdout",
          "text": [
            "division_ent =  2\n",
            "modulo =  1\n"
          ]
        }
      ],
      "source": [
        "# Modulo\n",
        "# Es el residuo de una division entera\n",
        "# Ejemplo  10/5 = 2 - el residuo es 0\n",
        "#          10/3 = 3 - el residuo es 1\n",
        "\n",
        "div_ent = 11 // 5\n",
        "print(\"division_ent = \", div_ent)\n",
        "\n",
        "modulo = 11 % 5\n",
        "print(\"modulo = \", modulo)"
      ]
    },
    {
      "cell_type": "code",
      "execution_count": null,
      "id": "25ff94c9",
      "metadata": {
        "colab": {
          "base_uri": "https://localhost:8080/"
        },
        "id": "25ff94c9",
        "outputId": "0653f9d1-6cda-4bb4-d78e-5a39409b1145"
      },
      "outputs": [
        {
          "output_type": "stream",
          "name": "stdout",
          "text": [
            "El numero 11 no es Par\n"
          ]
        }
      ],
      "source": [
        "## Apliaciones del Modulo\n",
        "\n",
        "# Determinar si un numero es Par (numero % 2)\n",
        "\n",
        "numero = 11\n",
        "resultado = numero % 2\n",
        "\n",
        "if resultado == 0:\n",
        "    print(f\"El numero {numero} es Par\")\n",
        "else:\n",
        "    print(f\"El numero {numero} no es Par\")"
      ]
    },
    {
      "cell_type": "code",
      "execution_count": null,
      "id": "ab061455",
      "metadata": {
        "colab": {
          "base_uri": "https://localhost:8080/"
        },
        "id": "ab061455",
        "outputId": "5aefdc1e-adf8-4231-a4c8-6f20a863c853"
      },
      "outputs": [
        {
          "output_type": "stream",
          "name": "stdout",
          "text": [
            "Hola, soy Alice y tengo 25 años\n",
            "Hola, soy Alice y tengo 25 años\n"
          ]
        }
      ],
      "source": [
        "# Bono\n",
        "nombre = \"Alice\"\n",
        "edad = 25\n",
        "print(\"Hola, soy %s y tengo %d años\" % (nombre, edad))\n",
        "print(f\"Hola, soy {nombre} y tengo {edad} años\")"
      ]
    },
    {
      "cell_type": "markdown",
      "id": "b10b642f",
      "metadata": {
        "id": "b10b642f"
      },
      "source": [
        "# Operadores de Asignacion\n",
        "* Recordar que los operadores de asignacion \"asiganan una variable\" y los de comparacion nos regresan un valor\n",
        "* =\n",
        "* +=\n",
        "* -=\n",
        "* *=\n",
        "* **=\n",
        "* /=\n",
        "* //=\n",
        "* %="
      ]
    },
    {
      "cell_type": "code",
      "execution_count": null,
      "id": "b503ff30",
      "metadata": {
        "colab": {
          "base_uri": "https://localhost:8080/"
        },
        "id": "b503ff30",
        "outputId": "be6d49bc-824a-47f3-ed02-157a372bd8a1"
      },
      "outputs": [
        {
          "output_type": "execute_result",
          "data": {
            "text/plain": [
              "10"
            ]
          },
          "metadata": {},
          "execution_count": 25
        }
      ],
      "source": [
        "# =\n",
        "# Es un simbolo de asignacion no de comparacion\n",
        "# asignar una variable y despues mandarla a llamar\n",
        "variable = 10\n",
        "variable"
      ]
    },
    {
      "cell_type": "code",
      "execution_count": null,
      "id": "d39d8fbb",
      "metadata": {
        "colab": {
          "base_uri": "https://localhost:8080/"
        },
        "id": "d39d8fbb",
        "outputId": "2eb53a3e-d210-4694-a6b9-79f931e5f327"
      },
      "outputs": [
        {
          "output_type": "stream",
          "name": "stdout",
          "text": [
            "20\n"
          ]
        }
      ],
      "source": [
        "# +=\n",
        "num1 = 10\n",
        "num1 += 10 # es lo mismo que escribir num1 = num1 + 10\n",
        "print(num1)"
      ]
    },
    {
      "cell_type": "code",
      "execution_count": null,
      "id": "4fc498e7",
      "metadata": {
        "colab": {
          "base_uri": "https://localhost:8080/"
        },
        "id": "4fc498e7",
        "outputId": "f7f0cfba-d391-411d-9bd2-ba47fe16f63b"
      },
      "outputs": [
        {
          "output_type": "stream",
          "name": "stdout",
          "text": [
            "opcion 1 \n",
            "20\n",
            "30\n",
            "40\n",
            "50\n",
            "60\n",
            "opcion 2\n",
            "20\n",
            "30\n",
            "40\n",
            "50\n",
            "60\n",
            "opcion con cadena\n",
            "holaa\n",
            "holaaa\n",
            "holaaaa\n",
            "holaaaaa\n",
            "holaaaaaa\n"
          ]
        }
      ],
      "source": [
        "print(\"opcion 1 \")\n",
        "num1 = 10\n",
        "for i in range(5):\n",
        "    num1 = num1 + 10\n",
        "    print(num1)\n",
        "print(\"opcion 2\")\n",
        "num1 = 10\n",
        "for i in range(5):\n",
        "    num1 += 10\n",
        "    print(num1)\n",
        "\n",
        "print(\"opcion con cadena\")\n",
        "cadena = \"hola\"\n",
        "for i in range(5):\n",
        "    cadena += 'a'\n",
        "    print(cadena)"
      ]
    },
    {
      "cell_type": "code",
      "execution_count": null,
      "id": "2ba8e2ce",
      "metadata": {
        "colab": {
          "base_uri": "https://localhost:8080/"
        },
        "id": "2ba8e2ce",
        "outputId": "2dc1be7c-1b14-4ab2-b7dd-175bba7356cb"
      },
      "outputs": [
        {
          "output_type": "stream",
          "name": "stdout",
          "text": [
            "opcion 1 \n",
            "0\n",
            "-10\n",
            "-20\n",
            "-30\n",
            "-40\n",
            "opcion 2\n",
            "0\n",
            "-10\n",
            "-20\n",
            "-30\n",
            "-40\n"
          ]
        }
      ],
      "source": [
        "#-=\n",
        "print(\"opcion 1 \")\n",
        "num1 = 10\n",
        "for i in range(5):\n",
        "    num1 = num1 - 10\n",
        "    print(num1)\n",
        "print(\"opcion 2\")\n",
        "num1 = 10\n",
        "for i in range(5):\n",
        "    num1 -= 10\n",
        "    print(num1)"
      ]
    },
    {
      "cell_type": "code",
      "execution_count": null,
      "id": "ce0cda86",
      "metadata": {
        "colab": {
          "base_uri": "https://localhost:8080/"
        },
        "id": "ce0cda86",
        "outputId": "89e4f2ac-1879-4fff-f84f-a2977cd8d714"
      },
      "outputs": [
        {
          "output_type": "stream",
          "name": "stdout",
          "text": [
            "opcion 1 \n",
            "100\n",
            "1000\n",
            "10000\n",
            "100000\n",
            "1000000\n",
            "opcion 2\n",
            "100\n",
            "1000\n",
            "10000\n",
            "100000\n",
            "1000000\n"
          ]
        }
      ],
      "source": [
        "#*=\n",
        "print(\"opcion 1 \")\n",
        "num1 = 10\n",
        "for i in range(5):\n",
        "    num1 = num1 * 10\n",
        "    print(num1)\n",
        "print(\"opcion 2\")\n",
        "num1 = 10\n",
        "for i in range(5):\n",
        "    num1 *= 10\n",
        "    print(num1)"
      ]
    },
    {
      "cell_type": "code",
      "execution_count": null,
      "id": "0c636ed7",
      "metadata": {
        "colab": {
          "base_uri": "https://localhost:8080/"
        },
        "id": "0c636ed7",
        "outputId": "4544e8eb-c4fd-45de-a827-488caf09c8bc"
      },
      "outputs": [
        {
          "output_type": "stream",
          "name": "stdout",
          "text": [
            "opcion 1 \n",
            "5.0\n",
            "2.5\n",
            "1.25\n",
            "0.625\n",
            "0.3125\n",
            "opcion 2\n",
            "5.0\n",
            "2.5\n",
            "1.25\n",
            "0.625\n",
            "0.3125\n"
          ]
        }
      ],
      "source": [
        "#/= (division con decimal)\n",
        "print(\"opcion 1 \")\n",
        "num1 = 10\n",
        "for i in range(5):\n",
        "    num1 = num1 / 2\n",
        "    print(num1)\n",
        "print(\"opcion 2\")\n",
        "num1 = 10\n",
        "for i in range(5):\n",
        "    num1 /= 2\n",
        "    print(num1)"
      ]
    },
    {
      "cell_type": "code",
      "execution_count": null,
      "id": "d11fddb6",
      "metadata": {
        "colab": {
          "base_uri": "https://localhost:8080/"
        },
        "id": "d11fddb6",
        "outputId": "381eaadb-19d5-4abe-8ce1-40b48eac1a84"
      },
      "outputs": [
        {
          "output_type": "stream",
          "name": "stdout",
          "text": [
            "opcion 1 \n",
            "5\n",
            "2\n",
            "1\n",
            "0\n",
            "0\n",
            "opcion 2\n",
            "5\n",
            "2\n",
            "1\n",
            "0\n",
            "0\n"
          ]
        }
      ],
      "source": [
        "# //= (division entera)\n",
        "print(\"opcion 1 \")\n",
        "num1 = 10\n",
        "for i in range(5):\n",
        "    num1 = num1 // 2\n",
        "    print(num1)\n",
        "print(\"opcion 2\")\n",
        "num1 = 10\n",
        "for i in range(5):\n",
        "    num1 //= 2\n",
        "    print(num1)"
      ]
    },
    {
      "cell_type": "code",
      "execution_count": null,
      "id": "38d9be01",
      "metadata": {
        "colab": {
          "base_uri": "https://localhost:8080/"
        },
        "id": "38d9be01",
        "outputId": "b9736899-a8bf-45fc-c3bb-b40435dc9c4c"
      },
      "outputs": [
        {
          "output_type": "stream",
          "name": "stdout",
          "text": [
            "opcion 1 \n",
            "100\n",
            "10000\n",
            "100000000\n",
            "10000000000000000\n",
            "100000000000000000000000000000000\n",
            "opcion 2\n",
            "100\n",
            "10000\n",
            "100000000\n",
            "10000000000000000\n",
            "100000000000000000000000000000000\n"
          ]
        }
      ],
      "source": [
        "# **= (division entera)\n",
        "print(\"opcion 1 \")\n",
        "num1 = 10\n",
        "for i in range(5):\n",
        "    num1 = num1 ** 2\n",
        "    print(num1)\n",
        "print(\"opcion 2\")\n",
        "num1 = 10\n",
        "for i in range(5):\n",
        "    num1 **= 2\n",
        "    print(num1)"
      ]
    },
    {
      "cell_type": "markdown",
      "id": "cc372ea7",
      "metadata": {
        "id": "cc372ea7"
      },
      "source": [
        "# Operadores relacionales o de comparacion\n",
        "* Nos regresan un valor booleano (True o False)\n",
        "* Se suelen ocupar con los condicionales (if)\n",
        "* '=='\n",
        "* '!='\n",
        "* '<'\n",
        "* '<='\n",
        "* '>'\n",
        "* '>='"
      ]
    },
    {
      "cell_type": "markdown",
      "id": "ec715421",
      "metadata": {
        "id": "ec715421"
      },
      "source": [
        "* == - ¿Es Igual x a y?"
      ]
    },
    {
      "cell_type": "code",
      "execution_count": null,
      "id": "cbf4db46",
      "metadata": {
        "colab": {
          "base_uri": "https://localhost:8080/"
        },
        "id": "cbf4db46",
        "outputId": "fde3ea31-1a8a-4a59-f03c-77b8496f37c8"
      },
      "outputs": [
        {
          "output_type": "stream",
          "name": "stdout",
          "text": [
            "False\n",
            "True\n"
          ]
        }
      ],
      "source": [
        "# Notar que ocupamos el operador de asigancion \"=\" y despues el operador condicional \"==\"\n",
        "expresion = 10 == 100\n",
        "print(expresion)\n",
        "\n",
        "expresion_2 = \"Hola\" == \"Hola\"\n",
        "print(expresion_2)"
      ]
    },
    {
      "cell_type": "code",
      "execution_count": null,
      "id": "537a78c8",
      "metadata": {
        "colab": {
          "base_uri": "https://localhost:8080/"
        },
        "id": "537a78c8",
        "outputId": "1be2085b-27de-4ad1-ebb1-e2b80c8741ab"
      },
      "outputs": [
        {
          "output_type": "stream",
          "name": "stdout",
          "text": [
            "True\n",
            "True\n"
          ]
        }
      ],
      "source": [
        "expresion_2 = \"Hola\".lower() == \"hola\"\n",
        "print(expresion_2)\n",
        "\n",
        "expresion_2 = \"hola\".upper() == \"HOLA\"\n",
        "print(expresion_2)"
      ]
    },
    {
      "cell_type": "code",
      "execution_count": null,
      "id": "5c5ebcd6",
      "metadata": {
        "colab": {
          "base_uri": "https://localhost:8080/"
        },
        "id": "5c5ebcd6",
        "outputId": "b646531c-0739-49f8-8a39-203cefe9827d"
      },
      "outputs": [
        {
          "output_type": "stream",
          "name": "stdout",
          "text": [
            "Object `y` not found.\n"
          ]
        }
      ],
      "source": [
        "* != - ¿Es diferente x a y?"
      ]
    },
    {
      "cell_type": "code",
      "execution_count": null,
      "id": "1803a0bc",
      "metadata": {
        "colab": {
          "base_uri": "https://localhost:8080/"
        },
        "id": "1803a0bc",
        "outputId": "877ba81b-997a-49d1-b5bf-0e238022b020"
      },
      "outputs": [
        {
          "output_type": "stream",
          "name": "stdout",
          "text": [
            "True\n",
            "False\n"
          ]
        }
      ],
      "source": [
        "# Notar que ocupamos el operador de asigancion \"=\" y despues el operador condicional \"==\"\n",
        "expresion = 10 != 100\n",
        "print(expresion)\n",
        "\n",
        "expresion_2 = \"Hola\" != \"Hola\"\n",
        "print(expresion_2)"
      ]
    },
    {
      "cell_type": "code",
      "execution_count": null,
      "id": "841c6101",
      "metadata": {
        "id": "841c6101"
      },
      "outputs": [],
      "source": [
        "# Ejemplo de funcionamiento"
      ]
    },
    {
      "cell_type": "code",
      "execution_count": null,
      "id": "ffc0b196",
      "metadata": {
        "colab": {
          "base_uri": "https://localhost:8080/"
        },
        "id": "ffc0b196",
        "outputId": "e12c1deb-b53f-4f5f-cd34-e5addde573ab"
      },
      "outputs": [
        {
          "output_type": "stream",
          "name": "stdout",
          "text": [
            "No creo que sean iguales 🤔\n"
          ]
        }
      ],
      "source": [
        "# Se suelen ocupar con los condicionales\n",
        "gato = \"burro\"\n",
        "emoji = \"🐈\"\n",
        "emoji2 = \"🤔\"\n",
        "\n",
        "if \"gato\" == gato:\n",
        "    print(f\"Si es igual un gato a un gato {emoji}\")\n",
        "else:\n",
        "    print(f\"No creo que sean iguales {emoji2}\")"
      ]
    },
    {
      "cell_type": "code",
      "execution_count": null,
      "id": "5596e52e",
      "metadata": {
        "colab": {
          "base_uri": "https://localhost:8080/"
        },
        "id": "5596e52e",
        "outputId": "462a65eb-bf5f-45d2-ccce-84744088906f"
      },
      "outputs": [
        {
          "output_type": "stream",
          "name": "stdout",
          "text": [
            "True\n",
            "False\n"
          ]
        }
      ],
      "source": [
        "# <=\n",
        "expresion = 10 <= 10\n",
        "print(expresion)\n",
        "\n",
        "#<\n",
        "\n",
        "expresion = 10 < 10\n",
        "print(expresion)"
      ]
    },
    {
      "cell_type": "code",
      "execution_count": null,
      "id": "c42ab171",
      "metadata": {
        "colab": {
          "base_uri": "https://localhost:8080/"
        },
        "id": "c42ab171",
        "outputId": "634e418c-a765-4ce9-f38c-6786c40a0701"
      },
      "outputs": [
        {
          "output_type": "stream",
          "name": "stdout",
          "text": [
            "True\n",
            "False\n"
          ]
        }
      ],
      "source": [
        "# >=\n",
        "expresion = 10 >= 10\n",
        "print(expresion)\n",
        "# >\n",
        "expresion = 10 > 10\n",
        "print(expresion)"
      ]
    },
    {
      "cell_type": "markdown",
      "id": "c78f81ed",
      "metadata": {
        "id": "c78f81ed"
      },
      "source": [
        "# Operadores Logicos\n",
        "son acompañados con los operadores de comparacion (==,>=,<=,<,>)\n",
        "\n",
        "* and - es como una multiplicacion\n",
        "* or  - es como una suma\n",
        "* not\n",
        "\n",
        "* nota: recordar que en jeraquia de operaciones primero va la multiplicacion y despues la suma"
      ]
    },
    {
      "cell_type": "code",
      "execution_count": null,
      "id": "60e4203e",
      "metadata": {
        "code_folding": [
          1,
          5
        ],
        "id": "60e4203e"
      },
      "outputs": [],
      "source": [
        "\n",
        "# Encabezados de la tabla\n",
        "##print(\"| A     | B     | A and B | A or B | not A |\")\n",
        "##print(\"|-------|-------|---------|--------|-------|\")\n",
        "\n",
        "# Valores de la tabla\n",
        "##for A in [True, False]:\n",
        " ##   for B in [True, False]:\n",
        "   ##     print(f\"| {A} | {B} | {A and B} | {A or B} | {not A} |\")"
      ]
    },
    {
      "cell_type": "markdown",
      "id": "b3167096",
      "metadata": {
        "id": "b3167096"
      },
      "source": [
        "| A     | B     | A and B | A or B | not A |\n",
        "|-------|-------|---------|--------|-------|\n",
        "| True | True | True | True | False |\n",
        "| True | False | False | True | False |\n",
        "| False | True | False | True | True |\n",
        "| False | False | False | False | True |"
      ]
    },
    {
      "cell_type": "code",
      "execution_count": null,
      "id": "3c871eb3",
      "metadata": {
        "id": "3c871eb3"
      },
      "outputs": [],
      "source": [
        "# and - es verdadero siempre y cuando todas las condiciones definidas sean verdaderas (y)}\n",
        "# or - es verdadero siempre y cuando alguna de las condiciones sea verdadera (o)\n",
        "# not - cambia un True por un False y un False por un True"
      ]
    },
    {
      "cell_type": "code",
      "execution_count": null,
      "id": "2438c237",
      "metadata": {
        "colab": {
          "base_uri": "https://localhost:8080/"
        },
        "id": "2438c237",
        "outputId": "78e2a975-cc6b-43ec-9040-a45d10883ef2"
      },
      "outputs": [
        {
          "output_type": "stream",
          "name": "stdout",
          "text": [
            "False and True or False or True and True\n",
            "Primero solucionamos los 'and'\n",
            "True or False or True\n",
            "Solucionamos los 'or'\n",
            "True or True\n",
            "True\n"
          ]
        },
        {
          "output_type": "execute_result",
          "data": {
            "text/plain": [
              "True"
            ]
          },
          "metadata": {},
          "execution_count": 43
        }
      ],
      "source": [
        "# Primero and (*) y despues or (+) - de izquierda a derecha\n",
        "print(\"False and True or False or True and True\")\n",
        "print(\"Primero solucionamos los 'and'\")\n",
        "print(\"True or False or True\")\n",
        "print(\"Solucionamos los 'or'\")\n",
        "print(\"True or True\")\n",
        "print(\"True\")\n",
        "fvfvv = False and True or False or True and True\n",
        "fvfvv"
      ]
    },
    {
      "cell_type": "markdown",
      "id": "1d7a3adf",
      "metadata": {
        "id": "1d7a3adf"
      },
      "source": [
        "** Ejercicio 1"
      ]
    },
    {
      "cell_type": "markdown",
      "id": "88b3583e",
      "metadata": {
        "id": "88b3583e"
      },
      "source": [
        "Para obtener un aumento en una empresa x (que empieza con \"sha\" y termina con \"sa\") tendra que cumplir con las\n",
        "siguientes condiciones\n",
        "\n",
        "* Ir a oficina al menos 3 dias\n",
        "* Tomar un maximo de una hora (60 min) de comida\n",
        "* Dominar todos sus procesos del area\n",
        "* Visitar al menos 3 tiendas o conocer los procesos de al menos 2 areas diferenes\n",
        "\n",
        "Escriba el codigo para ver si el \"jefazo\" obtendra su aumento si cumple con las siguietes carateriricas\n",
        "\n",
        "* va a trabajar a oficina L,M y V\n",
        "* toma para comer 45 min\n",
        "* Domina los procesos de sus area\n",
        "* ha visitado 2 tiendas y conoce los procesos de un area diferente"
      ]
    },
    {
      "cell_type": "code",
      "execution_count": null,
      "id": "876bfbd9",
      "metadata": {
        "colab": {
          "base_uri": "https://localhost:8080/"
        },
        "id": "876bfbd9",
        "outputId": "72b284a3-5245-4883-b150-98bf613490b7"
      },
      "outputs": [
        {
          "output_type": "stream",
          "name": "stdout",
          "text": [
            "El jefazo obtendra su aumento? False\n"
          ]
        }
      ],
      "source": [
        "# Info de \"jefazo\"\n",
        "dias_t = 3\n",
        "comida_min = 45\n",
        "procesos = True\n",
        "tiendas_vi = 2\n",
        "procesos_areas = 1\n",
        "\n",
        "# Codigo\n",
        "\n",
        "exp_1 = dias_t >= 3        # dias en la oficina son al menos 3\n",
        "exp_2 = comida_min < 60    # un maximo de 60 min para comer\n",
        "exp_3 = procesos           # Dominar los procesos del area\n",
        "exp_4 = (tiendas_vi >= 3 ) or (procesos_areas >= 2)\n",
        "\n",
        "aumento = exp_1 and exp_2 and exp_3 and exp_4\n",
        "\n",
        "print(f\"El jefazo obtendra su aumento? {aumento}\")"
      ]
    },
    {
      "cell_type": "code",
      "source": [],
      "metadata": {
        "id": "-unu5r-NXEpg"
      },
      "id": "-unu5r-NXEpg",
      "execution_count": null,
      "outputs": []
    }
  ],
  "metadata": {
    "kernelspec": {
      "display_name": "Python 3 (ipykernel)",
      "language": "python",
      "name": "python3"
    },
    "language_info": {
      "codemirror_mode": {
        "name": "ipython",
        "version": 3
      },
      "file_extension": ".py",
      "mimetype": "text/x-python",
      "name": "python",
      "nbconvert_exporter": "python",
      "pygments_lexer": "ipython3",
      "version": "3.9.15"
    },
    "colab": {
      "provenance": [],
      "include_colab_link": true
    }
  },
  "nbformat": 4,
  "nbformat_minor": 5
}