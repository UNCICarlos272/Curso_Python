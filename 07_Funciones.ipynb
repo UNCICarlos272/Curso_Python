{
 "cells": [
  {
   "cell_type": "markdown",
   "metadata": {"id": "intro-cell"},
   "source": [
    "# 7. Funciones: Creando Bloques de Código Reutilizables\n",
    "\n",
    "**¡Escribe código más limpio y eficiente!** Las funciones son bloques de código con un nombre que realizan una tarea específica. En lugar de repetir el mismo código una y otra vez, puedes definir una función una vez y llamarla tantas veces como quieras. Esto hace tu código más fácil de leer, depurar y mantener."
   ]
  },
  {
   "cell_type": "markdown",
   "metadata": {"id": "def-intro"},
   "source": [
    "## Definiendo una Función\n",
    "Usamos la palabra clave `def` para definir una función. Le damos un nombre, paréntesis `()` y dos puntos `:`."
   ]
  },
  {
   "cell_type": "code",
   "execution_count": null,
   "metadata": {"id": "def-code"},
   "outputs": [],
   "source": [
    "# Definimos una función simple\n",
    "def saludar():\n",
    "    print(\"¡Hola! Bienvenido a las funciones en Python.\")\n",
    "\n",
    "# Para ejecutar el código de la función, debemos \"llamarla\"\n",
    "saludar()\n",
    "saludar()"
   ]
  },
  {
   "cell_type": "markdown",
   "metadata": {"id": "params-intro"},
   "source": [
    "## Parámetros y Argumentos\n",
    "Podemos pasar datos a nuestras funciones a través de **parámetros** (las variables dentro de los paréntesis en la definición). Los valores que pasamos al llamar la función se llaman **argumentos**."
   ]
  },
  {
   "cell_type": "code",
   "execution_count": null,
   "metadata": {"id": "params-code"},
   "outputs": [],
   "source": [
    "# La función `saludo_personalizado` tiene un parámetro llamado `nombre`\n",
    "def saludo_personalizado(nombre):\n",
    "    print(f\"¡Hola, {nombre}! Espero que estés genial.\")\n",
    "\n",
    "# Llamamos a la función con diferentes argumentos\n",
    "saludo_personalizado(\"Carlos\")\n",
    "saludo_personalizado(\"Maria\")"
   ]
  },
  {
   "cell_type": "markdown",
   "metadata": {"id": "return-intro"},
   "source": [
    "## La Sentencia `return`\n",
    "Las funciones pueden devolver un valor usando la sentencia `return`. Cuando Python encuentra un `return`, la función termina y devuelve el valor especificado."
   ]
  },
  {
   "cell_type": "code",
   "execution_count": null,
   "metadata": {"id": "return-code"},
   "outputs": [],
   "source": [
    "# Esta función recibe dos números y devuelve su suma\n",
    "def sumar(a, b):\n",
    "    resultado = a + b\n",
    "    return resultado\n",
    "\n",
    "# Llamamos a la función y guardamos el valor devuelto en una variable\n",
    "valor_suma = sumar(10, 5)\n",
    "print(f\"El resultado de la suma es: {valor_suma}\")\n",
    "\n",
    "# Podemos usar el resultado directamente\n",
    "print(f\"El resultado de sumar 33 y 7 es: {sumar(33, 7)}\")"
   ]
  },
  {
   "cell_type": "markdown",
   "metadata": {"id": "default-args-intro"},
   "source": [
    "## Argumentos por Defecto\n",
    "Podemos asignar un valor por defecto a un parámetro. Si no se pasa un argumento para ese parámetro al llamar la función, se usará el valor por defecto."
   ]
  },
  {
   "cell_type": "code",
   "execution_count": null,
   "metadata": {"id": "default-args-code"},
   "outputs": [],
   "source": [
    "# El parámetro `exponente` tiene un valor por defecto de 2\n",
    "def potencia(base, exponente=2):\n",
    "    return base ** exponente\n",
    "\n",
    "# Si no pasamos el exponente, usa el valor por defecto (2)\n",
    "print(f\"5 al cuadrado es: {potencia(5)}\")\n",
    "\n",
    "# Si pasamos el exponente, usa el valor que le damos\n",
    "print(f\"2 al cubo es: {potencia(2, 3)}\")"
   ]
  },
  {
   "cell_type": "markdown",
   "metadata": {"id": "scope-intro"},
   "source": [
    "## Alcance de las Variables (Scope)\n",
    "El alcance o *scope* se refiere a la parte del programa donde una variable es accesible.\n",
    "- **Variables locales:** Se definen dentro de una función y solo existen dentro de ella.\n",
    "- **Variables globales:** Se definen fuera de cualquier función y son accesibles desde cualquier parte del código."
   ]
  },
  {
   "cell_type": "code",
   "execution_count": null,
   "metadata": {"id": "scope-code"},
   "outputs": [],
   "source": [
       "variable_global = \"Soy global\"\n",
       "\n",
       "def mi_funcion():\n",
       "    variable_local = \"Soy local\"\n",
       "    print(f'Dentro de la función, puedo ver la variable local: {variable_local}')\n",
       "    print(f'Dentro de la función, también puedo ver la variable global: {variable_global}')\n",
       "\n",
       "mi_funcion()\n",
       "\n",
       "print(f\"\\nFuera de la función, puedo ver la variable global: {variable_global}\")\n",
       "# Intentar acceder a la variable local desde fuera daría un error\n",
       "# print(variable_local) # Descomenta para ver el NameError"
   ]
  },
  {
   "cell_type": "markdown",
   "metadata": {"id": "outro-cell"},
   "source": [
    "## ¡Enhorabuena!\n",
    "\n",
    "Las funciones son la base de la programación estructurada. Te permiten crear código modular, reutilizable y mucho más profesional.\n",
    "\n",
    "**Próximo paso:** Aprender a manejar situaciones inesperadas y errores con la gestión de excepciones."
   ]
  }
 ],
 "metadata": {
  "kernelspec": {
   "display_name": "Python 3",
   "language": "python",
   "name": "python3"
  },
  "language_info": {
   "codemirror_mode": {
    "name": "ipython",
    "version": 3
   },
   "file_extension": ".py",
   "mimetype": "text/x-python",
   "name": "python",
   "nbconvert_exporter": "python",
   "pygments_lexer": "ipython3",
   "version": "3.12.4"
  }
 },
 "nbformat": 4,
 "nbformat_minor": 5
}
