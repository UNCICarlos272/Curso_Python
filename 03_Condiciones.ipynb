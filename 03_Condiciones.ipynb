{
 "cells": [
  {
   "cell_type": "markdown",
   "metadata": {"id": "intro-cell"},
   "source": [
    "# 3. Condiciones y Control de Flujo\n",
    "\n",
    "**¡Demosle inteligencia a nuestros programas!** En este cuaderno, aprenderás a usar las estructuras condicionales (`if`, `elif`, `else`) para que tu código pueda tomar decisiones y ejecutar diferentes acciones según se cumplan o no ciertas condiciones."
   ]
  },
  {
   "cell_type": "markdown",
   "metadata": {"id": "if-intro"},
   "source": [
    "## La Sentencia `if`\n",
    "La sentencia `if` (si) ejecuta un bloque de código solo si una condición es `True`."
   ]
  },
  {
   "cell_type": "code",
   "execution_count": null,
   "metadata": {"id": "if-code"},
   "outputs": [],
   "source": [
    "edad = 19\n",
    "\n",
    "# La condición es `edad >= 18`\n",
    "if edad >= 18:\n",
    "    # Este bloque de código solo se ejecuta si la condición es verdadera\n",
    "    print(\"Eres mayor de edad.\")\n",
    "\n",
    "print(\"Esta línea se ejecuta siempre, sin importar la condición.\")"
   ]
  },
  {
   "cell_type": "markdown",
   "metadata": {"id": "else-intro"},
   "source": [
    "## La Sentencia `else`\n",
    "La sentencia `else` (si no) se combina con `if` para ejecutar un bloque de código alternativo cuando la condición del `if` es `False`."
   ]
  },
  {
   "cell_type": "code",
   "execution_count": null,
   "metadata": {"id": "else-code"},
   "outputs": [],
   "source": [
    "temperatura = 15\n",
    "\n",
    "if temperatura > 25:\n",
    "    print(\"Hace calor, ¡enciende el aire acondicionado!\")\n",
    "else:\n",
    "    # Este bloque se ejecuta si la temperatura NO es mayor a 25\n",
    "    print(\"El clima es agradable o hace frío.\")"
   ]
  },
  {
   "cell_type": "markdown",
   "metadata": {"id": "elif-intro"},
   "source": [
    "## La Sentencia `elif`\n",
    "`elif` (contracción de *else if*) nos permite comprobar múltiples condiciones en cadena. Puedes tener tantos `elif` como necesites."
   ]
  },
  {
   "cell_type": "code",
   "execution_count": null,
   "metadata": {"id": "elif-code"},
   "outputs": [],
   "source": [
    "nota = 75\n",
    "\n",
    "if nota >= 90:\n",
    "    print(\"Calificación: Sobresaliente\")\n",
    "elif nota >= 80:\n",
    "    print(\"Calificación: Notable\")\n",
    "elif nota >= 70:\n",
    "    print(\"Calificación: Aprobado\")\n",
    "else:\n",
    "    print(\"Calificación: Suspenso\")"
   ]
  },
  {
   "cell_type": "markdown",
   "metadata": {"id": "nested-intro"},
   "source": [
    "## Anidamiento de Condicionales\n",
    "Puedes poner unas condiciones dentro de otras para crear lógicas más complejas."
   ]
  },
  {
   "cell_type": "code",
   "execution_count": null,
   "metadata": {"id": "nested-code"},
   "outputs": [],
   "source": [
    "edad = 20\n",
    "tiene_licencia = True\n",
    "\n",
    "if edad >= 18:\n",
    "    print(\"Eres mayor de edad.\")\n",
    "    # Esta condición está anidada dentro de la primera\n",
    "    if tiene_licencia:\n",
    "        print(\"Y además, puedes conducir.\")\n",
    "    else:\n",
    "        print(\"Pero no tienes licencia para conducir.\")\n",
    "else:\n",
    "    print(\"No eres mayor de edad, no puedes conducir.\")"
   ]
  },
  {
   "cell_type": "markdown",
   "metadata": {"id": "outro-cell"},
   "source": [
    "## ¡Muy bien!\n",
    "\n",
    "Dominar las condicionales es como darle un cerebro a tu código. Ahora puedes controlar qué caminos toma tu programa.\n",
    "\n",
    "**Próximo paso:** Aprender a repetir tareas una y otra vez con los bucles."
   ]
  }
 ],
 "metadata": {
  "kernelspec": {
   "display_name": "Python 3",
   "language": "python",
   "name": "python3"
  },
  "language_info": {
   "codemirror_mode": {
    "name": "ipython",
    "version": 3
   },
   "file_extension": ".py",
   "mimetype": "text/x-python",
   "name": "python",
   "nbconvert_exporter": "python",
   "pygments_lexer": "ipython3",
   "version": "3.12.4"
  }
 },
 "nbformat": 4,
 "nbformat_minor": 5
}