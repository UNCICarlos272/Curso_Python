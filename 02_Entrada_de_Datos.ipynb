{
  "cells": [
    {
      "cell_type": "markdown",
      "metadata": {
        "id": "view-in-github",
        "colab_type": "text"
      },
      "source": [
        "<a href=\"https://colab.research.google.com/github/UNCICarlos272/Curso_Python/blob/main/02_Entrada_de_Datos.ipynb\" target=\"_parent\"><img src=\"https://colab.research.google.com/assets/colab-badge.svg\" alt=\"Open In Colab\"/></a>"
      ]
    },
    {
      "cell_type": "markdown",
      "metadata": {
        "id": "CNWUzQlRnCES"
      },
      "source": [
        "# 2. Entrada de Datos y Conversión de Tipos\n",
        "\n",
        "**¡Hagamos nuestros programas interactivos!** En este cuaderno, aprenderás cómo recibir información del usuario, un paso crucial para crear aplicaciones útiles. También veremos por qué es fundamental convertir los datos recibidos al tipo correcto."
      ]
    },
    {
      "cell_type": "markdown",
      "source": [
        "## La Función `input()`\n",
        "La función `input()` pausa el programa, muestra un mensaje al usuario, y espera a que escriba algo y presione Enter. Lo que el usuario escribe se devuelve como un **string**."
      ],
      "metadata": {
        "id": "o4sE49UwnCEa"
      }
    },
    {
      "cell_type": "code",
      "execution_count": null,
      "metadata": {
        "colab": {
          "base_uri": "https://localhost:8080/"
        },
        "id": "NkuRtYe8nCEc",
        "outputId": "95c63799-dc35-46da-80ed-b95c39169517"
      },
      "outputs": [
        {
          "output_type": "stream",
          "name": "stdout",
          "text": [
            "Por favor, introduce tu nombre: Carlos\n",
            "¡Hola, Carlos! Bienvenido.\n",
            "¿Cuántos años tienes? 22\n",
            "El tipo de dato de la edad introducida es: <class 'str'>\n"
          ]
        }
      ],
      "source": [
        "# Pedimos el nombre al usuario\n",
        "nombre = input(\"Por favor, introduce tu nombre: \")\n",
        "\n",
        "# Saludamos al usuario con el nombre que nos dio\n",
        "print(f\"¡Hola, {nombre}! Bienvenido.\")\n",
        "\n",
        "# Siempre devuelve un string\n",
        "edad_str = input(\"¿Cuántos años tienes? \")\n",
        "print(f\"El tipo de dato de la edad introducida es: {type(edad_str)}\")"
      ]
    },
    {
      "cell_type": "markdown",
      "source": [
        "## Conversión de Tipos (Casting)\n",
        "Como `input()` siempre devuelve un string, si queremos hacer operaciones matemáticas, primero debemos convertir ese string a un tipo numérico (`int` o `float`). A este proceso se le llama casting."
      ],
      "metadata": {
        "id": "zTzS6gUTnCEf"
      }
    },
    {
      "cell_type": "code",
      "execution_count": null,
      "metadata": {
        "colab": {
          "base_uri": "https://localhost:8080/"
        },
        "id": "rkqz9TZDnCEf",
        "outputId": "dc36fcd0-4be4-4e42-dfa1-7089acac0e93"
      },
      "outputs": [
        {
          "output_type": "stream",
          "name": "stdout",
          "text": [
            "String: 100, Tipo: <class 'str'>\n",
            "Entero: 100, Tipo: <class 'int'>\n",
            "String: 99.5, Tipo: <class 'str'>\n",
            "Float: 99.5, Tipo: <class 'float'>\n"
          ]
        }
      ],
      "source": [
        "numero_str = \"100\"\n",
        "\n",
        "# Convertir de string a entero\n",
        "numero_int = int(numero_str)\n",
        "print(f\"String: {numero_str}, Tipo: {type(numero_str)}\")\n",
        "print(f\"Entero: {numero_int}, Tipo: {type(numero_int)}\")\n",
        "\n",
        "# Convertir de string a float\n",
        "valor_str = \"99.5\"\n",
        "valor_float = float(valor_str)\n",
        "print(f\"String: {valor_str}, Tipo: {type(valor_str)}\")\n",
        "print(f\"Float: {valor_float}, Tipo: {type(valor_float)}\")"
      ]
    },
    {
      "cell_type": "markdown",
      "source": [
        "### ¡Cuidado con los errores!\n",
        "Si intentas convertir un texto que no parece un número, Python te dará un error (`ValueError`). Más adelante aprenderemos a manejar estos errores."
      ],
      "metadata": {
        "id": "WpJ0DQGanCEg"
      }
    },
    {
      "cell_type": "code",
      "execution_count": null,
      "metadata": {
        "id": "eLAPDkU0nCEh"
      },
      "outputs": [],
      "source": [
        "# Esto daría un error si lo ejecutas:\n",
        "# texto_no_numerico = \"hola\"\n",
        "# numero = int(texto_no_numerico)"
      ]
    },
    {
      "cell_type": "markdown",
      "source": [
        "## Ejemplo Práctico: Una Calculadora Simple\n",
        "Vamos a combinar `input()` y la conversión de tipos para crear una calculadora que sume dos números."
      ],
      "metadata": {
        "id": "vehhG_8DnCEi"
      }
    },
    {
      "cell_type": "code",
      "execution_count": null,
      "metadata": {
        "colab": {
          "base_uri": "https://localhost:8080/"
        },
        "id": "yva1mjCWnCEi",
        "outputId": "3ce22bbf-6920-470f-b587-08621cfc0ab2"
      },
      "outputs": [
        {
          "output_type": "stream",
          "name": "stdout",
          "text": [
            "Introduce el primer número: 12\n",
            "Introduce el segundo número: 23\n",
            "La suma de 12.0 y 23.0 es: 35.0\n"
          ]
        }
      ],
      "source": [
        "# Pedimos el primer número y lo convertimos a float\n",
        "num1 = float(input(\"Introduce el primer número: \"))\n",
        "\n",
        "# Pedimos el segundo número y lo convertimos a float\n",
        "num2 = float(input(\"Introduce el segundo número: \"))\n",
        "\n",
        "# Calculamos la suma\n",
        "suma = num1 + num2\n",
        "\n",
        "# Mostramos el resultado\n",
        "print(f\"La suma de {num1} y {num2} es: {suma}\")"
      ]
    },
    {
      "cell_type": "markdown",
      "metadata": {
        "id": "qR6vRDgmnCEj"
      },
      "source": [
        "## ¡Excelente!\n",
        "\n",
        "Ahora puedes crear programas que interactúan con el usuario y procesan sus datos. Esta es una habilidad fundamental en la programación.\n",
        "\n",
        "**Próximo paso:** Aprender a tomar decisiones en tu código con las condicionales."
      ]
    }
  ],
  "metadata": {
    "kernelspec": {
      "display_name": "Python 3",
      "language": "python",
      "name": "python3"
    },
    "language_info": {
      "name": "python",
      "version": "3.9"
    },
    "colab": {
      "provenance": [],
      "include_colab_link": true
    }
  },
  "nbformat": 4,
  "nbformat_minor": 0
}